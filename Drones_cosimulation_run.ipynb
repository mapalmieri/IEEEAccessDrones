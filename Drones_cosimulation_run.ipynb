{
 "cells": [
  {
   "attachments": {},
   "cell_type": "markdown",
   "metadata": {
    "id": "0e01716c"
   },
   "source": [
    "<a target=\"_blank\" href=\"https://colab.research.google.com/github/mapalmieri/IEEEAccessDrones/blob/main/Drones_cosimulation_run.ipynb\">\n",
    "  <img src=\"https://colab.research.google.com/assets/colab-badge.svg\" alt=\"Open In Colab\"/>\n",
    "</a>"
   ]
  },
  {
   "cell_type": "code",
   "execution_count": 1,
   "id": "adfd9e93",
   "metadata": {},
   "outputs": [],
   "source": [
    "# Import all dependencies\n",
    "import json\n",
    "import subprocess\n",
    "import pandas\n",
    "import matplotlib.pyplot as plt\n",
    "import numpy as np\n",
    "import time"
   ]
  },
  {
   "cell_type": "code",
   "execution_count": 4,
   "id": "1fce3484",
   "metadata": {},
   "outputs": [
    {
     "ename": "SyntaxError",
     "evalue": "invalid syntax (3794165578.py, line 3)",
     "output_type": "error",
     "traceback": [
      "\u001b[0;36m  Cell \u001b[0;32mIn[4], line 3\u001b[0;36m\u001b[0m\n\u001b[0;31m    git clone https://github.com/mapalmieri/IEEEAccessDrones\u001b[0m\n\u001b[0m        ^\u001b[0m\n\u001b[0;31mSyntaxError\u001b[0m\u001b[0;31m:\u001b[0m invalid syntax\n"
     ]
    }
   ],
   "source": [
    "# Download the Github repository on the Colab Virtual machine\n",
    "%%bash\n",
    "git clone https://github.com/mapalmieri/IEEEAccessDrones"
   ]
  },
  {
   "cell_type": "code",
   "execution_count": null,
   "id": "56b80a9a",
   "metadata": {},
   "outputs": [],
   "source": [
    "multi_model_json_file = \"IEEEAccessDrones/Multi-models/Voronoi-nogui/mm.json\"\n",
    "with open(multi_model_json_file, 'r') as file :\n",
    "    multi_model = file.read()\n",
    "\n",
    "print(json.dumps(json.loads(multi_model), indent=2))"
   ]
  },
  {
   "cell_type": "code",
   "execution_count": null,
   "id": "a5f01bc8",
   "metadata": {},
   "outputs": [],
   "source": [
    "# Give access permission to the script_launch and execute it to run a co-simulation of the drones\n",
    "%%bash\n",
    "cd IEEEAccessDrones\n",
    "chmod u+x script_launch\n",
    "./script_launch"
   ]
  },
  {
   "cell_type": "code",
   "execution_count": null,
   "id": "329cd905",
   "metadata": {},
   "outputs": [],
   "source": [
    "# The results of the co-simulation are stored in the output.csv file and we can use the pandas python library to easily access them\n",
    "data = pandas.read_csv(\"IEEEAccessDrones/output.csv\")\n",
    "data"
   ]
  },
  {
   "cell_type": "code",
   "execution_count": null,
   "id": "528671ae",
   "metadata": {},
   "outputs": [],
   "source": [
    "# We can use the Matplotlib Python library to plot the graph of one variable (in this example the x-coordiate of drone 1, in the next example the y-coordiate of the same drone) against the desired value produced by the Voronoi algorithm\n",
    "plt.figure()\n",
    "plt.plot(data[\"time\"], data[\"{Plant}.PlantInstance1.x\"], label=\"{Plant}.PlantInstance1.x\")\n",
    "plt.plot(data[\"time\"], data[\"{Voronoi}.VoronoiInstance.out1_x\"], label=\"{Voronoi}.VoronoiInstance.out1_x\")\n",
    "plt.legend()\n",
    "plt.show()"
   ]
  },
  {
   "cell_type": "code",
   "execution_count": null,
   "id": "282716f5",
   "metadata": {},
   "outputs": [],
   "source": [
    "plt.figure()\n",
    "plt.plot(data[\"time\"], data[\"{Plant}.PlantInstance1.y\"], label=\"{Plant}.PlantInstance1.y\")\n",
    "plt.plot(data[\"time\"], data[\"{Voronoi}.VoronoiInstance.out1_y\"], label=\"{Voronoi}.VoronoiInstance.out1_y\")\n",
    "plt.legend()\n",
    "plt.show()"
   ]
  },
  {
   "attachments": {},
   "cell_type": "markdown",
   "id": "ee6bf849",
   "metadata": {},
   "source": [
    "It is possible to notice that in both the graphs, the variables of the plant FMU successfully follow the desired value produced by the Voronoi FMU and that, at the end, the value is stable."
   ]
  }
 ],
 "metadata": {
  "kernelspec": {
   "display_name": "Python 3 (ipykernel)",
   "language": "python",
   "name": "python3"
  },
  "language_info": {
   "codemirror_mode": {
    "name": "ipython",
    "version": 3
   },
   "file_extension": ".py",
   "mimetype": "text/x-python",
   "name": "python",
   "nbconvert_exporter": "python",
   "pygments_lexer": "ipython3",
   "version": "3.9.16"
  }
 },
 "nbformat": 4,
 "nbformat_minor": 5
}

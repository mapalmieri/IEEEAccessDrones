{
 "cells": [
  {
   "cell_type": "markdown",
   "id": "0e01716c",
   "metadata": {},
   "source": [
    "<a target=\"_blank\" href="https://colab.research.google.com/github/mapalmieri/IEEEAccessDrones/blob/main/Drones_cosimulation_run.ipynb">\n",
    "  <img src=\"https://colab.research.google.com/assets/colab-badge.svg\" alt=\"Open In Colab\"/>\n",
    "</a>"
   ]
  },
  {
   "cell_type": "code",
   "execution_count": null,
   "id": "adfd9e93",
   "metadata": {},
   "outputs": [],
   "source": [
    "# Import all dependencies\n",
    "import json\n",
    "import subprocess\n",
    "import pandas\n",
    "import matplotlib.pyplot as plt\n",
    "import numpy as np\n",
    "import time"
   ]
  },
  {
   "cell_type": "code",
   "execution_count": null,
   "id": "1fce3484",
   "metadata": {},
   "outputs": [],
   "source": [
    "%%bash\n",
    "git clone https://github.com/mapalmieri/IEEEAccessDrones"
   ]
  },
  {
   "cell_type": "code",
   "execution_count": null,
   "id": "a5f01bc8",
   "metadata": {},
   "outputs": [],
   "source": [
    "%%bash\n",
    "cd IEEEAccessDrones\n",
    "chmod u+x script_launch\n",
    "./script_launch"
   ]
  },
  {
   "cell_type": "code",
   "execution_count": null,
   "id": "329cd905",
   "metadata": {},
   "outputs": [],
   "source": [
    "data = pandas.read_csv(\"IEEEAccessDrones/output.csv\")\n",
    "data"
   ]
  },
  {
   "cell_type": "code",
   "execution_count": null,
   "id": "528671ae",
   "metadata": {},
   "outputs": [],
   "source": [
    "plt.figure()\n",
    "plt.plot(data[\"time\"], data[\"{Plant}.PlantInstance1.x\"], label=\"{Plant}.PlantInstance1.x\")\n",
    "plt.plot(data[\"time\"], data[\"{Voronoi}.VoronoiInstance.out1_x\"], label=\"{Voronoi}.VoronoiInstance.out1_x\")\n",
    "plt.legend()\n",
    "plt.show()"
   ]
  },
  {
   "cell_type": "code",
   "execution_count": null,
   "id": "282716f5",
   "metadata": {},
   "outputs": [],
   "source": [
    "plt.figure()\n",
    "plt.plot(data[\"time\"], data[\"{Plant}.PlantInstance1.y\"], label=\"{Plant}.PlantInstance1.y\")\n",
    "plt.plot(data[\"time\"], data[\"{Voronoi}.VoronoiInstance.out1_y\"], label=\"{Voronoi}.VoronoiInstance.out1_y\")\n",
    "plt.legend()\n",
    "plt.show()"
   ]
  }
 ],
 "metadata": {
  "kernelspec": {
   "display_name": "Python 3 (ipykernel)",
   "language": "python",
   "name": "python3"
  },
  "language_info": {
   "codemirror_mode": {
    "name": "ipython",
    "version": 3
   },
   "file_extension": ".py",
   "mimetype": "text/x-python",
   "name": "python",
   "nbconvert_exporter": "python",
   "pygments_lexer": "ipython3",
   "version": "3.7.0"
  }
 },
 "nbformat": 4,
 "nbformat_minor": 5
}
